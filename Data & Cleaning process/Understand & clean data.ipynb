{
 "cells": [
  {
   "cell_type": "code",
   "execution_count": 1,
   "id": "17b89950-1755-4ccd-af87-d311d5fdfdf8",
   "metadata": {
    "tags": []
   },
   "outputs": [
    {
     "name": "stdout",
     "output_type": "stream",
     "text": [
      "Requirement already satisfied: openpyxl in c:\\users\\dell\\appdata\\local\\programs\\python\\python39\\lib\\site-packages (3.1.2)\n",
      "Requirement already satisfied: et-xmlfile in c:\\users\\dell\\appdata\\local\\programs\\python\\python39\\lib\\site-packages (from openpyxl) (1.1.0)\n",
      "Note: you may need to restart the kernel to use updated packages.\n"
     ]
    }
   ],
   "source": [
    "pip install openpyxl"
   ]
  },
  {
   "cell_type": "markdown",
   "id": "8934def3-a0b1-4008-9851-e15102bd5cdf",
   "metadata": {},
   "source": [
    "# Import Libraries we will use"
   ]
  },
  {
   "cell_type": "code",
   "execution_count": 2,
   "id": "3226e882-0b90-46ac-9f35-289f401c2a92",
   "metadata": {
    "tags": []
   },
   "outputs": [],
   "source": [
    "import pandas as pd\n",
    "import numpy as np\n",
    "import matplotlib.pyplot as plt\n",
    "import seaborn as sns\n",
    "import openpyxl"
   ]
  },
  {
   "cell_type": "markdown",
   "id": "32d1c0f9-a3f0-4148-925e-3dfcefdc6e08",
   "metadata": {},
   "source": [
    "# Knowing the name of our Excel sheet"
   ]
  },
  {
   "cell_type": "code",
   "execution_count": 3,
   "id": "921620ae-d9d2-4cb9-a3cf-f612af9ca1fd",
   "metadata": {
    "tags": []
   },
   "outputs": [
    {
     "name": "stdout",
     "output_type": "stream",
     "text": [
      "['Title Sheet', 'Transactions', 'NewCustomerList', 'CustomerDemographic', 'CustomerAddress']\n"
     ]
    }
   ],
   "source": [
    "def get_excel_sheet_names(file_path):\n",
    "    # Load the Excel file\n",
    "    xls = pd.ExcelFile(file_path)\n",
    "    \n",
    "    # Retrieve the sheet names\n",
    "    sheet_names = xls.sheet_names\n",
    "    \n",
    "    return sheet_names\n",
    "\n",
    "# Example usage\n",
    "file_path = 'KPMG_VI_New_raw_data_update_final.xlsx'\n",
    "sheet_names = get_excel_sheet_names(file_path)\n",
    "\n",
    "print(sheet_names)"
   ]
  },
  {
   "cell_type": "markdown",
   "id": "225b1267-1b26-4475-a0ae-a3b6533e3aa6",
   "metadata": {},
   "source": [
    "# Upload our Dataset"
   ]
  },
  {
   "cell_type": "code",
   "execution_count": 4,
   "id": "88095c1d-c7a1-4791-91a2-6ace31cfc311",
   "metadata": {
    "tags": []
   },
   "outputs": [
    {
     "name": "stdout",
     "output_type": "stream",
     "text": [
      "upload successfully\n"
     ]
    }
   ],
   "source": [
    "transactions = pd.read_excel(file_path, sheet_name='Transactions')\n",
    "newcustomerlist = pd.read_excel(file_path, sheet_name='NewCustomerList')\n",
    "customerdemographic = pd.read_excel(file_path, sheet_name='CustomerDemographic')\n",
    "customeraddress = pd.read_excel(file_path, sheet_name='CustomerAddress')\n",
    "print('upload successfully')"
   ]
  },
  {
   "cell_type": "markdown",
   "id": "70046fe6-3f08-43d6-930f-b783b07f83d3",
   "metadata": {},
   "source": [
    "# Understand and cleaning out Dataset"
   ]
  },
  {
   "cell_type": "markdown",
   "id": "23816167-3d0e-41f7-a280-b291eef50a57",
   "metadata": {},
   "source": [
    "## First : Transaction Dataset "
   ]
  },
  {
   "cell_type": "code",
   "execution_count": 5,
   "id": "8c238ebb-8b04-4a2c-9cf4-5d110685b323",
   "metadata": {
    "tags": []
   },
   "outputs": [
    {
     "data": {
      "text/html": [
       "<div>\n",
       "<style scoped>\n",
       "    .dataframe tbody tr th:only-of-type {\n",
       "        vertical-align: middle;\n",
       "    }\n",
       "\n",
       "    .dataframe tbody tr th {\n",
       "        vertical-align: top;\n",
       "    }\n",
       "\n",
       "    .dataframe thead th {\n",
       "        text-align: right;\n",
       "    }\n",
       "</style>\n",
       "<table border=\"1\" class=\"dataframe\">\n",
       "  <thead>\n",
       "    <tr style=\"text-align: right;\">\n",
       "      <th></th>\n",
       "      <th>transaction_id</th>\n",
       "      <th>product_id</th>\n",
       "      <th>customer_id</th>\n",
       "      <th>transaction_date</th>\n",
       "      <th>online_order</th>\n",
       "      <th>order_status</th>\n",
       "      <th>brand</th>\n",
       "      <th>product_line</th>\n",
       "      <th>product_class</th>\n",
       "      <th>product_size</th>\n",
       "      <th>list_price</th>\n",
       "      <th>standard_cost</th>\n",
       "      <th>product_first_sold_date</th>\n",
       "    </tr>\n",
       "  </thead>\n",
       "  <tbody>\n",
       "    <tr>\n",
       "      <th>0</th>\n",
       "      <td>1</td>\n",
       "      <td>2</td>\n",
       "      <td>2950</td>\n",
       "      <td>2017-02-25</td>\n",
       "      <td>0.0</td>\n",
       "      <td>Approved</td>\n",
       "      <td>Solex</td>\n",
       "      <td>Standard</td>\n",
       "      <td>medium</td>\n",
       "      <td>medium</td>\n",
       "      <td>71.49</td>\n",
       "      <td>53.62</td>\n",
       "      <td>41245.0</td>\n",
       "    </tr>\n",
       "    <tr>\n",
       "      <th>1</th>\n",
       "      <td>2</td>\n",
       "      <td>3</td>\n",
       "      <td>3120</td>\n",
       "      <td>2017-05-21</td>\n",
       "      <td>1.0</td>\n",
       "      <td>Approved</td>\n",
       "      <td>Trek Bicycles</td>\n",
       "      <td>Standard</td>\n",
       "      <td>medium</td>\n",
       "      <td>large</td>\n",
       "      <td>2091.47</td>\n",
       "      <td>388.92</td>\n",
       "      <td>41701.0</td>\n",
       "    </tr>\n",
       "    <tr>\n",
       "      <th>2</th>\n",
       "      <td>3</td>\n",
       "      <td>37</td>\n",
       "      <td>402</td>\n",
       "      <td>2017-10-16</td>\n",
       "      <td>0.0</td>\n",
       "      <td>Approved</td>\n",
       "      <td>OHM Cycles</td>\n",
       "      <td>Standard</td>\n",
       "      <td>low</td>\n",
       "      <td>medium</td>\n",
       "      <td>1793.43</td>\n",
       "      <td>248.82</td>\n",
       "      <td>36361.0</td>\n",
       "    </tr>\n",
       "    <tr>\n",
       "      <th>3</th>\n",
       "      <td>4</td>\n",
       "      <td>88</td>\n",
       "      <td>3135</td>\n",
       "      <td>2017-08-31</td>\n",
       "      <td>0.0</td>\n",
       "      <td>Approved</td>\n",
       "      <td>Norco Bicycles</td>\n",
       "      <td>Standard</td>\n",
       "      <td>medium</td>\n",
       "      <td>medium</td>\n",
       "      <td>1198.46</td>\n",
       "      <td>381.10</td>\n",
       "      <td>36145.0</td>\n",
       "    </tr>\n",
       "    <tr>\n",
       "      <th>4</th>\n",
       "      <td>5</td>\n",
       "      <td>78</td>\n",
       "      <td>787</td>\n",
       "      <td>2017-10-01</td>\n",
       "      <td>1.0</td>\n",
       "      <td>Approved</td>\n",
       "      <td>Giant Bicycles</td>\n",
       "      <td>Standard</td>\n",
       "      <td>medium</td>\n",
       "      <td>large</td>\n",
       "      <td>1765.30</td>\n",
       "      <td>709.48</td>\n",
       "      <td>42226.0</td>\n",
       "    </tr>\n",
       "  </tbody>\n",
       "</table>\n",
       "</div>"
      ],
      "text/plain": [
       "   transaction_id  product_id  customer_id transaction_date  online_order   \n",
       "0               1           2         2950       2017-02-25           0.0  \\\n",
       "1               2           3         3120       2017-05-21           1.0   \n",
       "2               3          37          402       2017-10-16           0.0   \n",
       "3               4          88         3135       2017-08-31           0.0   \n",
       "4               5          78          787       2017-10-01           1.0   \n",
       "\n",
       "  order_status           brand product_line product_class product_size   \n",
       "0     Approved           Solex     Standard        medium       medium  \\\n",
       "1     Approved   Trek Bicycles     Standard        medium        large   \n",
       "2     Approved      OHM Cycles     Standard           low       medium   \n",
       "3     Approved  Norco Bicycles     Standard        medium       medium   \n",
       "4     Approved  Giant Bicycles     Standard        medium        large   \n",
       "\n",
       "   list_price  standard_cost  product_first_sold_date  \n",
       "0       71.49          53.62                  41245.0  \n",
       "1     2091.47         388.92                  41701.0  \n",
       "2     1793.43         248.82                  36361.0  \n",
       "3     1198.46         381.10                  36145.0  \n",
       "4     1765.30         709.48                  42226.0  "
      ]
     },
     "execution_count": 5,
     "metadata": {},
     "output_type": "execute_result"
    }
   ],
   "source": [
    "transactions.head()"
   ]
  },
  {
   "cell_type": "code",
   "execution_count": 6,
   "id": "65178b5a-8e67-4954-ac1f-41b86401c6d4",
   "metadata": {
    "tags": []
   },
   "outputs": [
    {
     "data": {
      "text/plain": [
       "(20000, 13)"
      ]
     },
     "execution_count": 6,
     "metadata": {},
     "output_type": "execute_result"
    }
   ],
   "source": [
    "transactions.shape"
   ]
  },
  {
   "cell_type": "markdown",
   "id": "98777bd8-3c96-4eb0-af9e-479a8a3e6fb8",
   "metadata": {},
   "source": [
    "### Sure that the data in the correct Type : "
   ]
  },
  {
   "cell_type": "code",
   "execution_count": 7,
   "id": "07e7e7ea-2ccd-4c52-b592-1ce462dde124",
   "metadata": {
    "tags": []
   },
   "outputs": [
    {
     "data": {
      "text/plain": [
       "transaction_id                      int64\n",
       "product_id                          int64\n",
       "customer_id                         int64\n",
       "transaction_date           datetime64[ns]\n",
       "online_order                      float64\n",
       "order_status                       object\n",
       "brand                              object\n",
       "product_line                       object\n",
       "product_class                      object\n",
       "product_size                       object\n",
       "list_price                        float64\n",
       "standard_cost                     float64\n",
       "product_first_sold_date           float64\n",
       "dtype: object"
      ]
     },
     "execution_count": 7,
     "metadata": {},
     "output_type": "execute_result"
    }
   ],
   "source": [
    "transactions.dtypes"
   ]
  },
  {
   "cell_type": "markdown",
   "id": "bf444e13-6154-4fa2-bee8-6dca70ba99a2",
   "metadata": {},
   "source": [
    "### Dealing with missing Data :"
   ]
  },
  {
   "cell_type": "code",
   "execution_count": 8,
   "id": "b39da2ea-2274-4ff8-a153-603bd7f15e29",
   "metadata": {
    "tags": []
   },
   "outputs": [
    {
     "data": {
      "text/plain": [
       "transaction_id               0\n",
       "product_id                   0\n",
       "customer_id                  0\n",
       "transaction_date             0\n",
       "online_order               360\n",
       "order_status                 0\n",
       "brand                      197\n",
       "product_line               197\n",
       "product_class              197\n",
       "product_size               197\n",
       "list_price                   0\n",
       "standard_cost              197\n",
       "product_first_sold_date    197\n",
       "dtype: int64"
      ]
     },
     "execution_count": 8,
     "metadata": {},
     "output_type": "execute_result"
    }
   ],
   "source": [
    "transactions.isna().sum()"
   ]
  },
  {
   "cell_type": "code",
   "execution_count": 9,
   "id": "333b6964-6dc8-4907-a883-90b7e64363b1",
   "metadata": {
    "tags": []
   },
   "outputs": [
    {
     "name": "stdout",
     "output_type": "stream",
     "text": [
      "threhold :  1000.0\n"
     ]
    },
    {
     "data": {
      "text/plain": [
       "transaction_id             0\n",
       "product_id                 0\n",
       "customer_id                0\n",
       "transaction_date           0\n",
       "online_order               0\n",
       "order_status               0\n",
       "brand                      0\n",
       "product_line               0\n",
       "product_class              0\n",
       "product_size               0\n",
       "list_price                 0\n",
       "standard_cost              0\n",
       "product_first_sold_date    0\n",
       "dtype: int64"
      ]
     },
     "execution_count": 9,
     "metadata": {},
     "output_type": "execute_result"
    }
   ],
   "source": [
    "threhold = len(transactions) * 0.05\n",
    "print(\"threhold : \",threhold)\n",
    "cols_to_drop = transactions.columns[transactions.isna().sum() <= threhold ]\n",
    "transactions.dropna(subset=cols_to_drop,inplace=True)\n",
    "transactions.isna().sum()"
   ]
  },
  {
   "cell_type": "markdown",
   "id": "76d9790f-b2a9-47ad-a92f-93a6fdb77cd4",
   "metadata": {},
   "source": [
    "## Cleaning the Transaction Dataset"
   ]
  },
  {
   "cell_type": "markdown",
   "id": "17eecb50-9494-4123-9028-c8b1f17beeb2",
   "metadata": {},
   "source": [
    "### We insure that the Data contains allowable Value :"
   ]
  },
  {
   "cell_type": "code",
   "execution_count": 10,
   "id": "225bbec4-e3e1-476b-a2df-49d5be8cdfd9",
   "metadata": {
    "tags": []
   },
   "outputs": [
    {
     "data": {
      "text/plain": [
       "Index(['transaction_id', 'product_id', 'customer_id', 'transaction_date',\n",
       "       'online_order', 'order_status', 'brand', 'product_line',\n",
       "       'product_class', 'product_size', 'list_price', 'standard_cost',\n",
       "       'product_first_sold_date'],\n",
       "      dtype='object')"
      ]
     },
     "execution_count": 10,
     "metadata": {},
     "output_type": "execute_result"
    }
   ],
   "source": [
    "transactions.columns"
   ]
  },
  {
   "cell_type": "code",
   "execution_count": 11,
   "id": "5af04a0e-bea2-4fdb-a52f-f9c4ed5ab830",
   "metadata": {
    "tags": []
   },
   "outputs": [
    {
     "data": {
      "text/plain": [
       "array([2017])"
      ]
     },
     "execution_count": 11,
     "metadata": {},
     "output_type": "execute_result"
    }
   ],
   "source": [
    "transactions['transaction_date'].dt.year.unique()"
   ]
  },
  {
   "cell_type": "code",
   "execution_count": 12,
   "id": "e670183b-aae5-4052-b61d-52822c2aaf3b",
   "metadata": {
    "tags": []
   },
   "outputs": [
    {
     "data": {
      "text/plain": [
       "array(['Approved', 'Cancelled'], dtype=object)"
      ]
     },
     "execution_count": 12,
     "metadata": {},
     "output_type": "execute_result"
    }
   ],
   "source": [
    "transactions['order_status'].unique()"
   ]
  },
  {
   "cell_type": "code",
   "execution_count": 13,
   "id": "3f7d9334-c9b8-40af-82cc-b6b0c319116f",
   "metadata": {
    "tags": []
   },
   "outputs": [
    {
     "data": {
      "text/plain": [
       "array(['Solex', 'Trek Bicycles', 'OHM Cycles', 'Norco Bicycles',\n",
       "       'Giant Bicycles', 'WeareA2B'], dtype=object)"
      ]
     },
     "execution_count": 13,
     "metadata": {},
     "output_type": "execute_result"
    }
   ],
   "source": [
    "transactions['brand'].unique()"
   ]
  },
  {
   "cell_type": "code",
   "execution_count": 14,
   "id": "62c8bfea-1b8c-4e9f-b2ef-ff13c9029c58",
   "metadata": {
    "tags": []
   },
   "outputs": [
    {
     "data": {
      "text/plain": [
       "array(['Standard', 'Road', 'Mountain', 'Touring'], dtype=object)"
      ]
     },
     "execution_count": 14,
     "metadata": {},
     "output_type": "execute_result"
    }
   ],
   "source": [
    "transactions['product_line'].unique()"
   ]
  },
  {
   "cell_type": "code",
   "execution_count": 15,
   "id": "ba621022-1f18-49c3-9294-7b741e6d8e72",
   "metadata": {
    "tags": []
   },
   "outputs": [
    {
     "data": {
      "text/plain": [
       "array(['medium', 'low', 'high'], dtype=object)"
      ]
     },
     "execution_count": 15,
     "metadata": {},
     "output_type": "execute_result"
    }
   ],
   "source": [
    "transactions['product_class'].unique()"
   ]
  },
  {
   "cell_type": "code",
   "execution_count": 16,
   "id": "d6844ee4-4562-439d-8c70-bde491e419e6",
   "metadata": {
    "tags": []
   },
   "outputs": [
    {
     "data": {
      "text/plain": [
       "array(['medium', 'large', 'small'], dtype=object)"
      ]
     },
     "execution_count": 16,
     "metadata": {},
     "output_type": "execute_result"
    }
   ],
   "source": [
    "transactions['product_size'].unique()"
   ]
  },
  {
   "cell_type": "markdown",
   "id": "2cf7c7f2-64d4-445c-a305-cb55e5b7d310",
   "metadata": {},
   "source": [
    "### Last step insure that is no dublication in our data:"
   ]
  },
  {
   "cell_type": "code",
   "execution_count": 17,
   "id": "e6c5be18-118d-4b5e-8777-ef9bca04e1b7",
   "metadata": {
    "tags": []
   },
   "outputs": [
    {
     "data": {
      "text/plain": [
       "0"
      ]
     },
     "execution_count": 17,
     "metadata": {},
     "output_type": "execute_result"
    }
   ],
   "source": [
    "transactions.duplicated().sum()"
   ]
  },
  {
   "cell_type": "markdown",
   "id": "6cb39e88-14de-4051-8da4-fdb0b9a1c2cc",
   "metadata": {},
   "source": [
    "### We now sure that Transaction Dataset is Cleaned and ready to next step\n",
    "## second : The newcustomerlist Dataset"
   ]
  },
  {
   "cell_type": "code",
   "execution_count": 25,
   "id": "fb97814c-abb2-4449-8098-8bbac8b2f828",
   "metadata": {
    "tags": []
   },
   "outputs": [
    {
     "data": {
      "text/html": [
       "<div>\n",
       "<style scoped>\n",
       "    .dataframe tbody tr th:only-of-type {\n",
       "        vertical-align: middle;\n",
       "    }\n",
       "\n",
       "    .dataframe tbody tr th {\n",
       "        vertical-align: top;\n",
       "    }\n",
       "\n",
       "    .dataframe thead th {\n",
       "        text-align: right;\n",
       "    }\n",
       "</style>\n",
       "<table border=\"1\" class=\"dataframe\">\n",
       "  <thead>\n",
       "    <tr style=\"text-align: right;\">\n",
       "      <th></th>\n",
       "      <th>first_name</th>\n",
       "      <th>last_name</th>\n",
       "      <th>gender</th>\n",
       "      <th>past_3_years_bike_related_purchases</th>\n",
       "      <th>DOB</th>\n",
       "      <th>job_title</th>\n",
       "      <th>job_industry_category</th>\n",
       "      <th>wealth_segment</th>\n",
       "      <th>deceased_indicator</th>\n",
       "      <th>owns_car</th>\n",
       "      <th>...</th>\n",
       "      <th>state</th>\n",
       "      <th>country</th>\n",
       "      <th>property_valuation</th>\n",
       "      <th>Unnamed: 16</th>\n",
       "      <th>Unnamed: 17</th>\n",
       "      <th>Unnamed: 18</th>\n",
       "      <th>Unnamed: 19</th>\n",
       "      <th>Unnamed: 20</th>\n",
       "      <th>Rank</th>\n",
       "      <th>Value</th>\n",
       "    </tr>\n",
       "  </thead>\n",
       "  <tbody>\n",
       "    <tr>\n",
       "      <th>0</th>\n",
       "      <td>Chickie</td>\n",
       "      <td>Brister</td>\n",
       "      <td>Male</td>\n",
       "      <td>86</td>\n",
       "      <td>1957-07-12</td>\n",
       "      <td>General Manager</td>\n",
       "      <td>Manufacturing</td>\n",
       "      <td>Mass Customer</td>\n",
       "      <td>N</td>\n",
       "      <td>Yes</td>\n",
       "      <td>...</td>\n",
       "      <td>QLD</td>\n",
       "      <td>Australia</td>\n",
       "      <td>6</td>\n",
       "      <td>0.80</td>\n",
       "      <td>1.000</td>\n",
       "      <td>1.2500</td>\n",
       "      <td>1.0625</td>\n",
       "      <td>1</td>\n",
       "      <td>1</td>\n",
       "      <td>1.718750</td>\n",
       "    </tr>\n",
       "    <tr>\n",
       "      <th>1</th>\n",
       "      <td>Morly</td>\n",
       "      <td>Genery</td>\n",
       "      <td>Male</td>\n",
       "      <td>69</td>\n",
       "      <td>1970-03-22</td>\n",
       "      <td>Structural Engineer</td>\n",
       "      <td>Property</td>\n",
       "      <td>Mass Customer</td>\n",
       "      <td>N</td>\n",
       "      <td>No</td>\n",
       "      <td>...</td>\n",
       "      <td>NSW</td>\n",
       "      <td>Australia</td>\n",
       "      <td>11</td>\n",
       "      <td>0.60</td>\n",
       "      <td>0.600</td>\n",
       "      <td>0.7500</td>\n",
       "      <td>0.6375</td>\n",
       "      <td>1</td>\n",
       "      <td>1</td>\n",
       "      <td>1.718750</td>\n",
       "    </tr>\n",
       "    <tr>\n",
       "      <th>2</th>\n",
       "      <td>Ardelis</td>\n",
       "      <td>Forrester</td>\n",
       "      <td>Female</td>\n",
       "      <td>10</td>\n",
       "      <td>1974-08-28 00:00:00</td>\n",
       "      <td>Senior Cost Accountant</td>\n",
       "      <td>Financial Services</td>\n",
       "      <td>Affluent Customer</td>\n",
       "      <td>N</td>\n",
       "      <td>No</td>\n",
       "      <td>...</td>\n",
       "      <td>VIC</td>\n",
       "      <td>Australia</td>\n",
       "      <td>5</td>\n",
       "      <td>0.99</td>\n",
       "      <td>0.990</td>\n",
       "      <td>0.9900</td>\n",
       "      <td>0.9900</td>\n",
       "      <td>1</td>\n",
       "      <td>1</td>\n",
       "      <td>1.718750</td>\n",
       "    </tr>\n",
       "    <tr>\n",
       "      <th>3</th>\n",
       "      <td>Lucine</td>\n",
       "      <td>Stutt</td>\n",
       "      <td>Female</td>\n",
       "      <td>64</td>\n",
       "      <td>1979-01-28</td>\n",
       "      <td>Account Representative III</td>\n",
       "      <td>Manufacturing</td>\n",
       "      <td>Affluent Customer</td>\n",
       "      <td>N</td>\n",
       "      <td>Yes</td>\n",
       "      <td>...</td>\n",
       "      <td>QLD</td>\n",
       "      <td>Australia</td>\n",
       "      <td>1</td>\n",
       "      <td>1.02</td>\n",
       "      <td>1.275</td>\n",
       "      <td>1.2750</td>\n",
       "      <td>1.2750</td>\n",
       "      <td>4</td>\n",
       "      <td>4</td>\n",
       "      <td>1.703125</td>\n",
       "    </tr>\n",
       "    <tr>\n",
       "      <th>4</th>\n",
       "      <td>Melinda</td>\n",
       "      <td>Hadlee</td>\n",
       "      <td>Female</td>\n",
       "      <td>34</td>\n",
       "      <td>1965-09-21</td>\n",
       "      <td>Financial Analyst</td>\n",
       "      <td>Financial Services</td>\n",
       "      <td>Affluent Customer</td>\n",
       "      <td>N</td>\n",
       "      <td>No</td>\n",
       "      <td>...</td>\n",
       "      <td>NSW</td>\n",
       "      <td>Australia</td>\n",
       "      <td>9</td>\n",
       "      <td>1.01</td>\n",
       "      <td>1.010</td>\n",
       "      <td>1.2625</td>\n",
       "      <td>1.2625</td>\n",
       "      <td>4</td>\n",
       "      <td>4</td>\n",
       "      <td>1.703125</td>\n",
       "    </tr>\n",
       "  </tbody>\n",
       "</table>\n",
       "<p>5 rows × 23 columns</p>\n",
       "</div>"
      ],
      "text/plain": [
       "  first_name  last_name  gender  past_3_years_bike_related_purchases   \n",
       "0    Chickie    Brister    Male                                   86  \\\n",
       "1      Morly     Genery    Male                                   69   \n",
       "2    Ardelis  Forrester  Female                                   10   \n",
       "3     Lucine      Stutt  Female                                   64   \n",
       "4    Melinda     Hadlee  Female                                   34   \n",
       "\n",
       "                   DOB                   job_title job_industry_category   \n",
       "0           1957-07-12             General Manager         Manufacturing  \\\n",
       "1           1970-03-22         Structural Engineer              Property   \n",
       "2  1974-08-28 00:00:00      Senior Cost Accountant    Financial Services   \n",
       "3           1979-01-28  Account Representative III         Manufacturing   \n",
       "4           1965-09-21           Financial Analyst    Financial Services   \n",
       "\n",
       "      wealth_segment deceased_indicator owns_car  ...  state    country   \n",
       "0      Mass Customer                  N      Yes  ...    QLD  Australia  \\\n",
       "1      Mass Customer                  N       No  ...    NSW  Australia   \n",
       "2  Affluent Customer                  N       No  ...    VIC  Australia   \n",
       "3  Affluent Customer                  N      Yes  ...    QLD  Australia   \n",
       "4  Affluent Customer                  N       No  ...    NSW  Australia   \n",
       "\n",
       "   property_valuation Unnamed: 16 Unnamed: 17  Unnamed: 18  Unnamed: 19   \n",
       "0                   6        0.80       1.000       1.2500       1.0625  \\\n",
       "1                  11        0.60       0.600       0.7500       0.6375   \n",
       "2                   5        0.99       0.990       0.9900       0.9900   \n",
       "3                   1        1.02       1.275       1.2750       1.2750   \n",
       "4                   9        1.01       1.010       1.2625       1.2625   \n",
       "\n",
       "   Unnamed: 20  Rank     Value  \n",
       "0            1     1  1.718750  \n",
       "1            1     1  1.718750  \n",
       "2            1     1  1.718750  \n",
       "3            4     4  1.703125  \n",
       "4            4     4  1.703125  \n",
       "\n",
       "[5 rows x 23 columns]"
      ]
     },
     "execution_count": 25,
     "metadata": {},
     "output_type": "execute_result"
    }
   ],
   "source": [
    "newcustomerlist.head()"
   ]
  },
  {
   "cell_type": "code",
   "execution_count": 24,
   "id": "b7ed5190-220c-4a86-a5c1-765056b9e629",
   "metadata": {
    "tags": []
   },
   "outputs": [
    {
     "data": {
      "text/plain": [
       "(1000, 23)"
      ]
     },
     "execution_count": 24,
     "metadata": {},
     "output_type": "execute_result"
    }
   ],
   "source": [
    "newcustomerlist.shape"
   ]
  },
  {
   "cell_type": "code",
   "execution_count": 27,
   "id": "b67080de-3dd4-4e02-b3a9-ae129fe7e4a5",
   "metadata": {
    "tags": []
   },
   "outputs": [
    {
     "data": {
      "text/plain": [
       "Index(['first_name', 'last_name', 'gender',\n",
       "       'past_3_years_bike_related_purchases', 'DOB', 'job_title',\n",
       "       'job_industry_category', 'wealth_segment', 'deceased_indicator',\n",
       "       'owns_car', 'tenure', 'address', 'postcode', 'state', 'country',\n",
       "       'property_valuation', 'Unnamed: 16', 'Unnamed: 17', 'Unnamed: 18',\n",
       "       'Unnamed: 19', 'Unnamed: 20', 'Rank', 'Value'],\n",
       "      dtype='object')"
      ]
     },
     "execution_count": 27,
     "metadata": {},
     "output_type": "execute_result"
    }
   ],
   "source": [
    "newcustomerlist.columns"
   ]
  },
  {
   "cell_type": "markdown",
   "id": "ef200caa-dd39-4159-a3cd-092b5a9b5d36",
   "metadata": {},
   "source": [
    "### We found columns that is hidden in excel we will not use we remove it"
   ]
  },
  {
   "cell_type": "code",
   "execution_count": 29,
   "id": "295ce2af-66d9-406b-8a3d-2607e82da36c",
   "metadata": {
    "tags": []
   },
   "outputs": [
    {
     "data": {
      "text/plain": [
       "Index(['first_name', 'last_name', 'gender',\n",
       "       'past_3_years_bike_related_purchases', 'DOB', 'job_title',\n",
       "       'job_industry_category', 'wealth_segment', 'deceased_indicator',\n",
       "       'owns_car', 'tenure', 'address', 'postcode', 'state', 'country',\n",
       "       'property_valuation', 'Rank', 'Value'],\n",
       "      dtype='object')"
      ]
     },
     "execution_count": 29,
     "metadata": {},
     "output_type": "execute_result"
    }
   ],
   "source": [
    "newcustomerlist = newcustomerlist.drop(['Unnamed: 16', 'Unnamed: 17', 'Unnamed: 18',\n",
    "       'Unnamed: 19', 'Unnamed: 20'],axis=1)\n",
    "newcustomerlist.columns"
   ]
  },
  {
   "cell_type": "code",
   "execution_count": 30,
   "id": "9371af90-0eb1-4f17-89d3-bd31d44f66f7",
   "metadata": {
    "tags": []
   },
   "outputs": [
    {
     "data": {
      "text/plain": [
       "first_name                              object\n",
       "last_name                               object\n",
       "gender                                  object\n",
       "past_3_years_bike_related_purchases      int64\n",
       "DOB                                     object\n",
       "job_title                               object\n",
       "job_industry_category                   object\n",
       "wealth_segment                          object\n",
       "deceased_indicator                      object\n",
       "owns_car                                object\n",
       "tenure                                   int64\n",
       "address                                 object\n",
       "postcode                                 int64\n",
       "state                                   object\n",
       "country                                 object\n",
       "property_valuation                       int64\n",
       "Rank                                     int64\n",
       "Value                                  float64\n",
       "dtype: object"
      ]
     },
     "execution_count": 30,
     "metadata": {},
     "output_type": "execute_result"
    }
   ],
   "source": [
    "newcustomerlist.dtypes"
   ]
  },
  {
   "cell_type": "markdown",
   "id": "8707c658-4b63-48aa-b1b9-d950af752cd8",
   "metadata": {},
   "source": [
    "### DOB should be a date not an object"
   ]
  },
  {
   "cell_type": "code",
   "execution_count": 31,
   "id": "6d704593-1ed4-40c8-96ab-2cdd683ae1e3",
   "metadata": {
    "tags": []
   },
   "outputs": [],
   "source": [
    "newcustomerlist['DOB'] = pd.to_datetime(newcustomerlist['DOB'])"
   ]
  },
  {
   "cell_type": "code",
   "execution_count": 35,
   "id": "3ad76504-4380-41fa-b4e1-4877323b9b87",
   "metadata": {
    "tags": []
   },
   "outputs": [
    {
     "data": {
      "text/plain": [
       "first_name                                     object\n",
       "last_name                                      object\n",
       "gender                                         object\n",
       "past_3_years_bike_related_purchases             int64\n",
       "DOB                                    datetime64[ns]\n",
       "job_title                                      object\n",
       "job_industry_category                          object\n",
       "wealth_segment                                 object\n",
       "deceased_indicator                             object\n",
       "owns_car                                       object\n",
       "tenure                                          int64\n",
       "address                                        object\n",
       "postcode                                        int64\n",
       "state                                          object\n",
       "country                                        object\n",
       "property_valuation                              int64\n",
       "Rank                                            int64\n",
       "Value                                         float64\n",
       "dtype: object"
      ]
     },
     "execution_count": 35,
     "metadata": {},
     "output_type": "execute_result"
    }
   ],
   "source": [
    "newcustomerlist.dtypes"
   ]
  },
  {
   "cell_type": "markdown",
   "id": "10a271f5-006c-4168-a2b0-e9b12d6cb089",
   "metadata": {},
   "source": [
    "### Deal with missing value"
   ]
  },
  {
   "cell_type": "code",
   "execution_count": 36,
   "id": "0de93eca-9f1a-4d2b-8348-de51a7eb3ce5",
   "metadata": {
    "tags": []
   },
   "outputs": [
    {
     "data": {
      "text/plain": [
       "first_name                               0\n",
       "last_name                               29\n",
       "gender                                   0\n",
       "past_3_years_bike_related_purchases      0\n",
       "DOB                                     17\n",
       "job_title                              106\n",
       "job_industry_category                  165\n",
       "wealth_segment                           0\n",
       "deceased_indicator                       0\n",
       "owns_car                                 0\n",
       "tenure                                   0\n",
       "address                                  0\n",
       "postcode                                 0\n",
       "state                                    0\n",
       "country                                  0\n",
       "property_valuation                       0\n",
       "Rank                                     0\n",
       "Value                                    0\n",
       "dtype: int64"
      ]
     },
     "execution_count": 36,
     "metadata": {},
     "output_type": "execute_result"
    }
   ],
   "source": [
    "newcustomerlist.isna().sum()"
   ]
  },
  {
   "cell_type": "markdown",
   "id": "fb8eeefd-6d4e-4b9b-8987-e20b93fa0e24",
   "metadata": {},
   "source": [
    "## Remove rows contains missing data but if it's less than 5% of the Dataset"
   ]
  },
  {
   "cell_type": "code",
   "execution_count": 37,
   "id": "fd625de6-9f06-443e-b268-42d3a64a8a0a",
   "metadata": {
    "tags": []
   },
   "outputs": [
    {
     "name": "stdout",
     "output_type": "stream",
     "text": [
      "threhold :  50.0\n"
     ]
    },
    {
     "data": {
      "text/plain": [
       "first_name                               0\n",
       "last_name                                0\n",
       "gender                                   0\n",
       "past_3_years_bike_related_purchases      0\n",
       "DOB                                      0\n",
       "job_title                              102\n",
       "job_industry_category                  159\n",
       "wealth_segment                           0\n",
       "deceased_indicator                       0\n",
       "owns_car                                 0\n",
       "tenure                                   0\n",
       "address                                  0\n",
       "postcode                                 0\n",
       "state                                    0\n",
       "country                                  0\n",
       "property_valuation                       0\n",
       "Rank                                     0\n",
       "Value                                    0\n",
       "dtype: int64"
      ]
     },
     "execution_count": 37,
     "metadata": {},
     "output_type": "execute_result"
    }
   ],
   "source": [
    "threhold = len(newcustomerlist) * 0.05\n",
    "print(\"threhold : \",threhold)\n",
    "cols_to_drop = newcustomerlist.columns[newcustomerlist.isna().sum() <= threhold ]\n",
    "newcustomerlist.dropna(subset=cols_to_drop,inplace=True)\n",
    "newcustomerlist.isna().sum()"
   ]
  },
  {
   "cell_type": "markdown",
   "id": "56daef99-78b0-432a-aeca-351d547dda22",
   "metadata": {},
   "source": [
    "### We have a 2 Categorical columns we replace the Null value with the mode "
   ]
  },
  {
   "cell_type": "code",
   "execution_count": 48,
   "id": "a8fe1f0d-195f-4da3-8a51-338d442b33f3",
   "metadata": {
    "tags": []
   },
   "outputs": [
    {
     "name": "stdout",
     "output_type": "stream",
     "text": [
      "0    Associate Professor\n",
      "1     Environmental Tech\n",
      "2    Software Consultant\n",
      "Name: job_title, dtype: object\n",
      " \n",
      "0    Manufacturing\n",
      "Name: job_industry_category, dtype: object\n"
     ]
    }
   ],
   "source": [
    "mode1 = newcustomerlist['job_title'].mode()\n",
    "mode2 = newcustomerlist['job_industry_category'].mode()\n",
    "print(mode1)\n",
    "print(' ')\n",
    "print(mode2)"
   ]
  },
  {
   "cell_type": "code",
   "execution_count": 52,
   "id": "1955740e-22e6-407b-9432-f6610e10df4e",
   "metadata": {
    "tags": []
   },
   "outputs": [
    {
     "name": "stdout",
     "output_type": "stream",
     "text": [
      "put them in an array successfully\n"
     ]
    }
   ],
   "source": [
    "mode1 = mode1.to_numpy()\n",
    "mode2 =mode2.to_numpy()\n",
    "print('put them in an array successfully')"
   ]
  },
  {
   "cell_type": "markdown",
   "id": "114a3430-42fb-45e5-842f-1d9bb08ef71e",
   "metadata": {},
   "source": [
    "### We have 3 modes in one column we choose to fill the missing value randomly between them"
   ]
  },
  {
   "cell_type": "code",
   "execution_count": 53,
   "id": "749fa451-28e5-4928-bbbf-c25a76e91484",
   "metadata": {
    "tags": []
   },
   "outputs": [],
   "source": [
    "if newcustomerlist['job_title'].isna().any():\n",
    "    newcustomerlist['job_title']= newcustomerlist['job_title'].fillna(np.random.choice(mode1))"
   ]
  },
  {
   "cell_type": "code",
   "execution_count": 55,
   "id": "6c6bde5e-5e47-40e3-843b-8c451aabbc3e",
   "metadata": {
    "tags": []
   },
   "outputs": [],
   "source": [
    "if newcustomerlist['job_industry_category'].isna().any():\n",
    "    newcustomerlist['job_industry_category']= newcustomerlist['job_industry_category'].fillna(np.random.choice(mode2))"
   ]
  },
  {
   "cell_type": "markdown",
   "id": "bbd21b62-e942-4a12-ad95-3a46d0ba1569",
   "metadata": {},
   "source": [
    "### Finaly we clean our Missing values"
   ]
  },
  {
   "cell_type": "code",
   "execution_count": 56,
   "id": "b038d38a-3c68-4d82-86c5-754ee08f3bdd",
   "metadata": {
    "tags": []
   },
   "outputs": [
    {
     "data": {
      "text/plain": [
       "first_name                             0\n",
       "last_name                              0\n",
       "gender                                 0\n",
       "past_3_years_bike_related_purchases    0\n",
       "DOB                                    0\n",
       "job_title                              0\n",
       "job_industry_category                  0\n",
       "wealth_segment                         0\n",
       "deceased_indicator                     0\n",
       "owns_car                               0\n",
       "tenure                                 0\n",
       "address                                0\n",
       "postcode                               0\n",
       "state                                  0\n",
       "country                                0\n",
       "property_valuation                     0\n",
       "Rank                                   0\n",
       "Value                                  0\n",
       "dtype: int64"
      ]
     },
     "execution_count": 56,
     "metadata": {},
     "output_type": "execute_result"
    }
   ],
   "source": [
    "newcustomerlist.isna().sum()"
   ]
  },
  {
   "cell_type": "markdown",
   "id": "6e81c21a-713b-4686-9d49-074276bb8b6a",
   "metadata": {},
   "source": [
    "## We insure that the Data contains allowable Value :"
   ]
  },
  {
   "cell_type": "code",
   "execution_count": 57,
   "id": "3c12ccbb-f761-460d-aa49-5ad340bd8690",
   "metadata": {
    "tags": []
   },
   "outputs": [
    {
     "data": {
      "text/plain": [
       "array(['Male', 'Female'], dtype=object)"
      ]
     },
     "execution_count": 57,
     "metadata": {},
     "output_type": "execute_result"
    }
   ],
   "source": [
    "newcustomerlist['gender'].unique()"
   ]
  },
  {
   "cell_type": "code",
   "execution_count": 58,
   "id": "546e56f8-80f0-4052-9714-327d8763b2c5",
   "metadata": {
    "tags": []
   },
   "outputs": [
    {
     "data": {
      "text/plain": [
       "array([1957, 1970, 1974, 1979, 1965, 1951, 1976, 1972, 1985, 1995, 1999,\n",
       "       1964, 1954, 1993, 1938, 1968, 1998, 1977, 1982, 1945, 1952, 1966,\n",
       "       1960, 1980, 1987, 1981, 1975, 1955, 1953, 1946, 1961, 1956, 1994,\n",
       "       1950, 1978, 1983, 1971, 1942, 1967, 1996, 1984, 1988, 1958, 1973,\n",
       "       1949, 1992, 1943, 2000, 1991, 1940, 1963, 1969, 1939, 1997, 1941,\n",
       "       1990, 1962, 2001, 1986, 1989, 1944, 1959, 1948, 1947, 2002])"
      ]
     },
     "execution_count": 58,
     "metadata": {},
     "output_type": "execute_result"
    }
   ],
   "source": [
    "newcustomerlist['DOB'].dt.year.unique()"
   ]
  },
  {
   "cell_type": "code",
   "execution_count": 59,
   "id": "a92e641d-73fa-4116-950b-c1a44c2ed987",
   "metadata": {
    "tags": []
   },
   "outputs": [
    {
     "data": {
      "text/plain": [
       "array(['Mass Customer', 'Affluent Customer', 'High Net Worth'],\n",
       "      dtype=object)"
      ]
     },
     "execution_count": 59,
     "metadata": {},
     "output_type": "execute_result"
    }
   ],
   "source": [
    "newcustomerlist['wealth_segment'].unique()"
   ]
  },
  {
   "cell_type": "code",
   "execution_count": 60,
   "id": "62fbb2ba-abd6-4e14-9366-c7bf7c71171b",
   "metadata": {
    "tags": []
   },
   "outputs": [
    {
     "data": {
      "text/plain": [
       "array(['N'], dtype=object)"
      ]
     },
     "execution_count": 60,
     "metadata": {},
     "output_type": "execute_result"
    }
   ],
   "source": [
    "newcustomerlist['deceased_indicator'].unique()"
   ]
  },
  {
   "cell_type": "code",
   "execution_count": 61,
   "id": "5b93c992-6d96-43ad-bca3-20985be08ae4",
   "metadata": {
    "tags": []
   },
   "outputs": [
    {
     "data": {
      "text/plain": [
       "array(['Yes', 'No'], dtype=object)"
      ]
     },
     "execution_count": 61,
     "metadata": {},
     "output_type": "execute_result"
    }
   ],
   "source": [
    "newcustomerlist['owns_car'].unique()"
   ]
  },
  {
   "cell_type": "code",
   "execution_count": 64,
   "id": "90a28134-9c10-462b-8cfe-501777ffad9f",
   "metadata": {
    "tags": []
   },
   "outputs": [
    {
     "data": {
      "text/plain": [
       "array(['QLD', 'NSW', 'VIC'], dtype=object)"
      ]
     },
     "execution_count": 64,
     "metadata": {},
     "output_type": "execute_result"
    }
   ],
   "source": [
    "newcustomerlist['state'].unique()"
   ]
  },
  {
   "cell_type": "code",
   "execution_count": 65,
   "id": "4833f9b5-987a-4f74-b8ba-bac3344610ff",
   "metadata": {
    "tags": []
   },
   "outputs": [
    {
     "data": {
      "text/plain": [
       "array(['Australia'], dtype=object)"
      ]
     },
     "execution_count": 65,
     "metadata": {},
     "output_type": "execute_result"
    }
   ],
   "source": [
    "newcustomerlist['country'].unique()"
   ]
  },
  {
   "cell_type": "markdown",
   "id": "ef681317-b2a0-407b-a581-7dc0e863819d",
   "metadata": {},
   "source": [
    "### Last step insure that is no dublication in our data:"
   ]
  },
  {
   "cell_type": "code",
   "execution_count": 68,
   "id": "424bed55-c9c7-458a-8a2b-fa01a4af1966",
   "metadata": {
    "tags": []
   },
   "outputs": [
    {
     "data": {
      "text/plain": [
       "0"
      ]
     },
     "execution_count": 68,
     "metadata": {},
     "output_type": "execute_result"
    }
   ],
   "source": [
    "newcustomerlist.duplicated().sum()"
   ]
  },
  {
   "cell_type": "markdown",
   "id": "c0df17cf-dc3d-40f3-9688-93d4c3e80c23",
   "metadata": {},
   "source": [
    "### We now sure that newcustomerlist Dataset is Cleaned and ready to next step\n",
    "## Third : The customerdemographic Dataset"
   ]
  },
  {
   "cell_type": "code",
   "execution_count": null,
   "id": "e2653147-e794-48ba-b451-e986b829d09b",
   "metadata": {},
   "outputs": [],
   "source": []
  },
  {
   "cell_type": "code",
   "execution_count": null,
   "id": "9e5604f2-a34c-4b14-b9b3-3473ca59bd09",
   "metadata": {},
   "outputs": [],
   "source": []
  }
 ],
 "metadata": {
  "kernelspec": {
   "display_name": "Python 3 (ipykernel)",
   "language": "python",
   "name": "python3"
  },
  "language_info": {
   "codemirror_mode": {
    "name": "ipython",
    "version": 3
   },
   "file_extension": ".py",
   "mimetype": "text/x-python",
   "name": "python",
   "nbconvert_exporter": "python",
   "pygments_lexer": "ipython3",
   "version": "3.9.10"
  }
 },
 "nbformat": 4,
 "nbformat_minor": 5
}
